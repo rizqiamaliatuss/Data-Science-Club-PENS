{
 "cells": [
  {
   "cell_type": "code",
   "execution_count": 46,
   "metadata": {},
   "outputs": [],
   "source": [
    "import pandas as pd\n",
    "import numpy as np\n",
    "import matplotlib.pyplot as plt\n",
    "%matplotlib inline"
   ]
  },
  {
   "cell_type": "code",
   "execution_count": 47,
   "metadata": {},
   "outputs": [
    {
     "data": {
      "text/html": [
       "<div>\n",
       "<style scoped>\n",
       "    .dataframe tbody tr th:only-of-type {\n",
       "        vertical-align: middle;\n",
       "    }\n",
       "\n",
       "    .dataframe tbody tr th {\n",
       "        vertical-align: top;\n",
       "    }\n",
       "\n",
       "    .dataframe thead th {\n",
       "        text-align: right;\n",
       "    }\n",
       "</style>\n",
       "<table border=\"1\" class=\"dataframe\">\n",
       "  <thead>\n",
       "    <tr style=\"text-align: right;\">\n",
       "      <th></th>\n",
       "      <th>Tanggal Transaksi</th>\n",
       "      <th>Lokasi Pembelian</th>\n",
       "      <th>Tipe</th>\n",
       "      <th>Merek</th>\n",
       "      <th>Warna</th>\n",
       "      <th>Jenis Kelamin</th>\n",
       "      <th>Kota</th>\n",
       "      <th>Propinsi</th>\n",
       "      <th>Usia</th>\n",
       "      <th>Jenis Pembayaran</th>\n",
       "      <th>Pekerjaan</th>\n",
       "      <th>Pendidikan</th>\n",
       "      <th>Harga Jual</th>\n",
       "    </tr>\n",
       "  </thead>\n",
       "  <tbody>\n",
       "    <tr>\n",
       "      <th>0</th>\n",
       "      <td>24/04/2018</td>\n",
       "      <td>BOJONEGORO</td>\n",
       "      <td>SAMSUNG GALAXY C7 PRO</td>\n",
       "      <td>SAMSUNG</td>\n",
       "      <td>HITAM</td>\n",
       "      <td>PEREMPUAN</td>\n",
       "      <td>BOJONEGORO</td>\n",
       "      <td>JAWA TIMUR</td>\n",
       "      <td>41</td>\n",
       "      <td>TUNAI</td>\n",
       "      <td>WIRASWASTA</td>\n",
       "      <td>SMA</td>\n",
       "      <td>4488000</td>\n",
       "    </tr>\n",
       "    <tr>\n",
       "      <th>1</th>\n",
       "      <td>24/04/2018</td>\n",
       "      <td>JOMBANG</td>\n",
       "      <td>XIAOMI REDMI 6 3/32 GB</td>\n",
       "      <td>XIAOMI</td>\n",
       "      <td>HITAM</td>\n",
       "      <td>LAKI-LAKI</td>\n",
       "      <td>JOMBANG</td>\n",
       "      <td>JAWA TIMUR</td>\n",
       "      <td>56</td>\n",
       "      <td>TUNAI</td>\n",
       "      <td>PNS</td>\n",
       "      <td>SMA</td>\n",
       "      <td>1649000</td>\n",
       "    </tr>\n",
       "    <tr>\n",
       "      <th>2</th>\n",
       "      <td>24/04/2018</td>\n",
       "      <td>MOJOKERTO</td>\n",
       "      <td>XIAOMI REDMI 6 3/32 GB</td>\n",
       "      <td>XIAOMI</td>\n",
       "      <td>HITAM</td>\n",
       "      <td>LAKI-LAKI</td>\n",
       "      <td>MOJOKERTO</td>\n",
       "      <td>JAWA TIMUR</td>\n",
       "      <td>24</td>\n",
       "      <td>KREDIT</td>\n",
       "      <td>PELAJAR/MAHASISWA</td>\n",
       "      <td>SMA</td>\n",
       "      <td>1649000</td>\n",
       "    </tr>\n",
       "    <tr>\n",
       "      <th>3</th>\n",
       "      <td>24/04/2018</td>\n",
       "      <td>SURABAYA</td>\n",
       "      <td>XIAOMI REDMI 6 3/32 GB</td>\n",
       "      <td>XIAOMI</td>\n",
       "      <td>HITAM</td>\n",
       "      <td>LAKI-LAKI</td>\n",
       "      <td>SURABAYA</td>\n",
       "      <td>JAWA TIMUR</td>\n",
       "      <td>23</td>\n",
       "      <td>KREDIT</td>\n",
       "      <td>LAIN-LAIN</td>\n",
       "      <td>SMA</td>\n",
       "      <td>1649000</td>\n",
       "    </tr>\n",
       "    <tr>\n",
       "      <th>4</th>\n",
       "      <td>24/04/2018</td>\n",
       "      <td>BOJONEGORO</td>\n",
       "      <td>XIAOMI REDMI 6 3/32 GB</td>\n",
       "      <td>XIAOMI</td>\n",
       "      <td>HITAM</td>\n",
       "      <td>PEREMPUAN</td>\n",
       "      <td>BOJONEGORO</td>\n",
       "      <td>JAWA TIMUR</td>\n",
       "      <td>23</td>\n",
       "      <td>KREDIT</td>\n",
       "      <td>KARYAWAN SWASTA</td>\n",
       "      <td>SMA</td>\n",
       "      <td>1649000</td>\n",
       "    </tr>\n",
       "  </tbody>\n",
       "</table>\n",
       "</div>"
      ],
      "text/plain": [
       "  Tanggal Transaksi Lokasi Pembelian                    Tipe    Merek  Warna  \\\n",
       "0        24/04/2018       BOJONEGORO   SAMSUNG GALAXY C7 PRO  SAMSUNG  HITAM   \n",
       "1        24/04/2018          JOMBANG  XIAOMI REDMI 6 3/32 GB   XIAOMI  HITAM   \n",
       "2        24/04/2018        MOJOKERTO  XIAOMI REDMI 6 3/32 GB   XIAOMI  HITAM   \n",
       "3        24/04/2018         SURABAYA  XIAOMI REDMI 6 3/32 GB   XIAOMI  HITAM   \n",
       "4        24/04/2018       BOJONEGORO  XIAOMI REDMI 6 3/32 GB   XIAOMI  HITAM   \n",
       "\n",
       "  Jenis Kelamin        Kota    Propinsi  Usia Jenis Pembayaran  \\\n",
       "0     PEREMPUAN  BOJONEGORO  JAWA TIMUR    41            TUNAI   \n",
       "1     LAKI-LAKI     JOMBANG  JAWA TIMUR    56            TUNAI   \n",
       "2     LAKI-LAKI   MOJOKERTO  JAWA TIMUR    24           KREDIT   \n",
       "3     LAKI-LAKI    SURABAYA  JAWA TIMUR    23           KREDIT   \n",
       "4     PEREMPUAN  BOJONEGORO  JAWA TIMUR    23           KREDIT   \n",
       "\n",
       "           Pekerjaan Pendidikan  Harga Jual  \n",
       "0         WIRASWASTA        SMA     4488000  \n",
       "1                PNS        SMA     1649000  \n",
       "2  PELAJAR/MAHASISWA        SMA     1649000  \n",
       "3          LAIN-LAIN        SMA     1649000  \n",
       "4    KARYAWAN SWASTA        SMA     1649000  "
      ]
     },
     "execution_count": 47,
     "metadata": {},
     "output_type": "execute_result"
    }
   ],
   "source": [
    "df = pd.read_csv('dataset_penjualan_hp.csv')\n",
    "df.head()"
   ]
  },
  {
   "cell_type": "code",
   "execution_count": 48,
   "metadata": {},
   "outputs": [
    {
     "data": {
      "text/html": [
       "<div>\n",
       "<style scoped>\n",
       "    .dataframe tbody tr th:only-of-type {\n",
       "        vertical-align: middle;\n",
       "    }\n",
       "\n",
       "    .dataframe tbody tr th {\n",
       "        vertical-align: top;\n",
       "    }\n",
       "\n",
       "    .dataframe thead th {\n",
       "        text-align: right;\n",
       "    }\n",
       "</style>\n",
       "<table border=\"1\" class=\"dataframe\">\n",
       "  <thead>\n",
       "    <tr style=\"text-align: right;\">\n",
       "      <th></th>\n",
       "      <th>Tanggal Transaksi</th>\n",
       "      <th>Lokasi Pembelian</th>\n",
       "      <th>Tipe</th>\n",
       "      <th>Merek</th>\n",
       "      <th>Warna</th>\n",
       "      <th>Jenis Kelamin</th>\n",
       "      <th>Kota</th>\n",
       "      <th>Propinsi</th>\n",
       "      <th>Usia</th>\n",
       "      <th>Jenis Pembayaran</th>\n",
       "      <th>Pekerjaan</th>\n",
       "      <th>Pendidikan</th>\n",
       "      <th>Harga Jual</th>\n",
       "    </tr>\n",
       "  </thead>\n",
       "  <tbody>\n",
       "    <tr>\n",
       "      <th>995</th>\n",
       "      <td>29/04/2018</td>\n",
       "      <td>SURABAYA</td>\n",
       "      <td>XIAOMI MI A2 LITE 3/32 GB</td>\n",
       "      <td>XIAOMI</td>\n",
       "      <td>HITAM</td>\n",
       "      <td>LAKI-LAKI</td>\n",
       "      <td>SURABAYA</td>\n",
       "      <td>JAWA TIMUR</td>\n",
       "      <td>48</td>\n",
       "      <td>KREDIT</td>\n",
       "      <td>KARYAWAN SWASTA</td>\n",
       "      <td>SMA</td>\n",
       "      <td>3115000</td>\n",
       "    </tr>\n",
       "    <tr>\n",
       "      <th>996</th>\n",
       "      <td>29/04/2018</td>\n",
       "      <td>SUMENEP</td>\n",
       "      <td>XIAOMI MI A2 LITE 3/32 GB</td>\n",
       "      <td>XIAOMI</td>\n",
       "      <td>HITAM</td>\n",
       "      <td>PEREMPUAN</td>\n",
       "      <td>SUMENEP</td>\n",
       "      <td>JAWA TIMUR</td>\n",
       "      <td>27</td>\n",
       "      <td>KREDIT</td>\n",
       "      <td>PELAJAR/MAHASISWA</td>\n",
       "      <td>SARJANA (S1)</td>\n",
       "      <td>3115000</td>\n",
       "    </tr>\n",
       "    <tr>\n",
       "      <th>997</th>\n",
       "      <td>29/04/2018</td>\n",
       "      <td>MOJOKERTO</td>\n",
       "      <td>XIAOMI MI A2 LITE 3/32 GB</td>\n",
       "      <td>XIAOMI</td>\n",
       "      <td>HITAM</td>\n",
       "      <td>LAKI-LAKI</td>\n",
       "      <td>MOJOKERTO</td>\n",
       "      <td>JAWA TIMUR</td>\n",
       "      <td>33</td>\n",
       "      <td>KREDIT</td>\n",
       "      <td>WIRASWASTA</td>\n",
       "      <td>SMA</td>\n",
       "      <td>3115000</td>\n",
       "    </tr>\n",
       "    <tr>\n",
       "      <th>998</th>\n",
       "      <td>29/04/2018</td>\n",
       "      <td>JOMBANG</td>\n",
       "      <td>XIAOMI MI A2 LITE 3/32 GB</td>\n",
       "      <td>XIAOMI</td>\n",
       "      <td>HITAM</td>\n",
       "      <td>LAKI-LAKI</td>\n",
       "      <td>JOMBANG</td>\n",
       "      <td>JAWA TIMUR</td>\n",
       "      <td>33</td>\n",
       "      <td>KREDIT</td>\n",
       "      <td>KARYAWAN SWASTA</td>\n",
       "      <td>SMA</td>\n",
       "      <td>3115000</td>\n",
       "    </tr>\n",
       "    <tr>\n",
       "      <th>999</th>\n",
       "      <td>29/04/2018</td>\n",
       "      <td>SURABAYA</td>\n",
       "      <td>XIAOMI MI A2 LITE 3/32 GB</td>\n",
       "      <td>XIAOMI</td>\n",
       "      <td>HITAM</td>\n",
       "      <td>PEREMPUAN</td>\n",
       "      <td>SURABAYA</td>\n",
       "      <td>JAWA TIMUR</td>\n",
       "      <td>29</td>\n",
       "      <td>TUNAI</td>\n",
       "      <td>IBU RUMAH TANGGA</td>\n",
       "      <td>SMA</td>\n",
       "      <td>3115000</td>\n",
       "    </tr>\n",
       "  </tbody>\n",
       "</table>\n",
       "</div>"
      ],
      "text/plain": [
       "    Tanggal Transaksi Lokasi Pembelian                       Tipe   Merek  \\\n",
       "995        29/04/2018         SURABAYA  XIAOMI MI A2 LITE 3/32 GB  XIAOMI   \n",
       "996        29/04/2018          SUMENEP  XIAOMI MI A2 LITE 3/32 GB  XIAOMI   \n",
       "997        29/04/2018        MOJOKERTO  XIAOMI MI A2 LITE 3/32 GB  XIAOMI   \n",
       "998        29/04/2018          JOMBANG  XIAOMI MI A2 LITE 3/32 GB  XIAOMI   \n",
       "999        29/04/2018         SURABAYA  XIAOMI MI A2 LITE 3/32 GB  XIAOMI   \n",
       "\n",
       "     Warna Jenis Kelamin       Kota    Propinsi  Usia Jenis Pembayaran  \\\n",
       "995  HITAM     LAKI-LAKI   SURABAYA  JAWA TIMUR    48           KREDIT   \n",
       "996  HITAM     PEREMPUAN    SUMENEP  JAWA TIMUR    27           KREDIT   \n",
       "997  HITAM     LAKI-LAKI  MOJOKERTO  JAWA TIMUR    33           KREDIT   \n",
       "998  HITAM     LAKI-LAKI    JOMBANG  JAWA TIMUR    33           KREDIT   \n",
       "999  HITAM     PEREMPUAN   SURABAYA  JAWA TIMUR    29            TUNAI   \n",
       "\n",
       "             Pekerjaan    Pendidikan  Harga Jual  \n",
       "995    KARYAWAN SWASTA           SMA     3115000  \n",
       "996  PELAJAR/MAHASISWA  SARJANA (S1)     3115000  \n",
       "997         WIRASWASTA           SMA     3115000  \n",
       "998    KARYAWAN SWASTA           SMA     3115000  \n",
       "999   IBU RUMAH TANGGA           SMA     3115000  "
      ]
     },
     "execution_count": 48,
     "metadata": {},
     "output_type": "execute_result"
    }
   ],
   "source": [
    "df.tail()"
   ]
  },
  {
   "cell_type": "code",
   "execution_count": 49,
   "metadata": {},
   "outputs": [
    {
     "data": {
      "text/plain": [
       "count                1000\n",
       "unique                 10\n",
       "top       KARYAWAN SWASTA\n",
       "freq                  353\n",
       "Name: Pekerjaan, dtype: object"
      ]
     },
     "execution_count": 49,
     "metadata": {},
     "output_type": "execute_result"
    }
   ],
   "source": [
    "df.Pekerjaan.describe()"
   ]
  },
  {
   "cell_type": "code",
   "execution_count": 50,
   "metadata": {},
   "outputs": [
    {
     "data": {
      "text/plain": [
       "<matplotlib.axes._subplots.AxesSubplot at 0x7f017a616a58>"
      ]
     },
     "execution_count": 50,
     "metadata": {},
     "output_type": "execute_result"
    },
    {
     "data": {
      "image/png": "[encoded data removed]",
      "text/plain": [
       "<Figure size 576x720 with 1 Axes>"
      ]
     },
     "metadata": {
      "needs_background": "light"
     },
     "output_type": "display_data"
    }
   ],
   "source": [
    "df[df['Lokasi Pembelian'] == 'SURABAYA'].groupby('Pekerjaan').count().plot(kind='bar', figsize=(8, 10), zorder=3, width=0.85)"
   ]
  },
  {
   "cell_type": "code",
   "execution_count": 51,
   "metadata": {},
   "outputs": [],
   "source": [
    "Warna = df.Warna.describe()"
   ]
  },
  {
   "cell_type": "code",
   "execution_count": 52,
   "metadata": {
    "scrolled": true
   },
   "outputs": [
    {
     "data": {
      "text/plain": [
       "count           1000\n",
       "unique             1\n",
       "top       JAWA TIMUR\n",
       "freq            1000\n",
       "Name: Propinsi, dtype: object"
      ]
     },
     "execution_count": 52,
     "metadata": {},
     "output_type": "execute_result"
    }
   ],
   "source": [
    "df.Propinsi.describe()"
   ]
  },
  {
   "cell_type": "code",
   "execution_count": 14,
   "metadata": {},
   "outputs": [
    {
     "data": {
      "text/plain": [
       "count         1000\n",
       "unique          15\n",
       "top       SURABAYA\n",
       "freq           326\n",
       "Name: Kota, dtype: object"
      ]
     },
     "execution_count": 14,
     "metadata": {},
     "output_type": "execute_result"
    }
   ],
   "source": [
    "df.Kota.describe()"
   ]
  },
  {
   "cell_type": "code",
   "execution_count": 26,
   "metadata": {},
   "outputs": [],
   "source": [
    "Usia_categories={1:'17 to 24',2:'24 to 29',3:'30 to 35',4:'36 to 100'}\n",
    "\n",
    "def get_Usia_category(x):\n",
    "    \"\"\"Gets an age category\"\"\"\n",
    "    global Usia_categories\n",
    "    \n",
    "    if (x < 24):\n",
    "        category = 1\n",
    "    elif (x < 29):\n",
    "        category = 2\n",
    "    elif (x < 35):\n",
    "        category = 3\n",
    "    else:\n",
    "        category = 4\n",
    "    return Usia_categories[category]\n",
    "\n",
    "df['Usia_category'] = df['Usia'].apply(get_Usia_category)\n",
    "df['Usia_category'] = df['Usia_category'].astype('category')\n"
   ]
  },
  {
   "cell_type": "code",
   "execution_count": 27,
   "metadata": {},
   "outputs": [
    {
     "data": {
      "text/html": [
       "<div>\n",
       "<style scoped>\n",
       "    .dataframe tbody tr th:only-of-type {\n",
       "        vertical-align: middle;\n",
       "    }\n",
       "\n",
       "    .dataframe tbody tr th {\n",
       "        vertical-align: top;\n",
       "    }\n",
       "\n",
       "    .dataframe thead th {\n",
       "        text-align: right;\n",
       "    }\n",
       "</style>\n",
       "<table border=\"1\" class=\"dataframe\">\n",
       "  <thead>\n",
       "    <tr style=\"text-align: right;\">\n",
       "      <th></th>\n",
       "      <th>Usia</th>\n",
       "      <th>Harga Jual</th>\n",
       "    </tr>\n",
       "  </thead>\n",
       "  <tbody>\n",
       "    <tr>\n",
       "      <th>count</th>\n",
       "      <td>1000.000000</td>\n",
       "      <td>1.000000e+03</td>\n",
       "    </tr>\n",
       "    <tr>\n",
       "      <th>mean</th>\n",
       "      <td>36.572000</td>\n",
       "      <td>1.838885e+06</td>\n",
       "    </tr>\n",
       "    <tr>\n",
       "      <th>std</th>\n",
       "      <td>11.421877</td>\n",
       "      <td>2.656487e+05</td>\n",
       "    </tr>\n",
       "    <tr>\n",
       "      <th>min</th>\n",
       "      <td>18.000000</td>\n",
       "      <td>1.649000e+06</td>\n",
       "    </tr>\n",
       "    <tr>\n",
       "      <th>25%</th>\n",
       "      <td>27.000000</td>\n",
       "      <td>1.649000e+06</td>\n",
       "    </tr>\n",
       "    <tr>\n",
       "      <th>50%</th>\n",
       "      <td>35.000000</td>\n",
       "      <td>1.649000e+06</td>\n",
       "    </tr>\n",
       "    <tr>\n",
       "      <th>75%</th>\n",
       "      <td>45.000000</td>\n",
       "      <td>2.049000e+06</td>\n",
       "    </tr>\n",
       "    <tr>\n",
       "      <th>max</th>\n",
       "      <td>77.000000</td>\n",
       "      <td>4.488000e+06</td>\n",
       "    </tr>\n",
       "  </tbody>\n",
       "</table>\n",
       "</div>"
      ],
      "text/plain": [
       "              Usia    Harga Jual\n",
       "count  1000.000000  1.000000e+03\n",
       "mean     36.572000  1.838885e+06\n",
       "std      11.421877  2.656487e+05\n",
       "min      18.000000  1.649000e+06\n",
       "25%      27.000000  1.649000e+06\n",
       "50%      35.000000  1.649000e+06\n",
       "75%      45.000000  2.049000e+06\n",
       "max      77.000000  4.488000e+06"
      ]
     },
     "execution_count": 27,
     "metadata": {},
     "output_type": "execute_result"
    }
   ],
   "source": [
    "df.describe()"
   ]
  },
  {
   "cell_type": "code",
   "execution_count": 35,
   "metadata": {},
   "outputs": [
    {
     "data": {
      "text/plain": [
       "count       1000\n",
       "unique         5\n",
       "top       XIAOMI\n",
       "freq         405\n",
       "Name: Merek, dtype: object"
      ]
     },
     "execution_count": 35,
     "metadata": {},
     "output_type": "execute_result"
    }
   ],
   "source": [
    "df.Merek.describe()"
   ]
  },
  {
   "cell_type": "code",
   "execution_count": 45,
   "metadata": {},
   "outputs": [
    {
     "data": {
      "text/plain": [
       "<matplotlib.axes._subplots.AxesSubplot at 0x7f017a79eda0>"
      ]
     },
     "execution_count": 45,
     "metadata": {},
     "output_type": "execute_result"
    },
    {
     "data": {
      "image/png": "[encoded data removed]",
      "text/plain": [
       "<Figure size 576x720 with 1 Axes>"
      ]
     },
     "metadata": {},
     "output_type": "display_data"
    }
   ],
   "source": [
    "df[df['Lokasi Pembelian'] == 'SURABAYA'].groupby('Merek').count().plot(kind='bar', figsize=(8, 10), zorder=3, width=0.85)"
   ]
  },
  {
   "cell_type": "code",
   "execution_count": null,
   "metadata": {},
   "outputs": [],
   "source": []
  },
  {
   "cell_type": "code",
   "execution_count": null,
   "metadata": {},
   "outputs": [],
   "source": []
  }
 ],
 "metadata": {
  "kernelspec": {
   "display_name": "Python 3",
   "language": "python",
   "name": "python3"
  },
  "language_info": {
   "codemirror_mode": {
    "name": "ipython",
    "version": 3
   },
   "file_extension": ".py",
   "mimetype": "text/x-python",
   "name": "python",
   "nbconvert_exporter": "python",
   "pygments_lexer": "ipython3",
   "version": "3.6.8"
  }
 },
 "nbformat": 4,
 "nbformat_minor": 2
}
